{
 "cells": [
  {
   "cell_type": "markdown",
   "metadata": {},
   "source": [
    "# FIBONACCI RETRACEMENT"
   ]
  },
  {
   "cell_type": "markdown",
   "metadata": {},
   "source": [
    "Import Library and Data set"
   ]
  },
  {
   "cell_type": "code",
   "execution_count": 27,
   "metadata": {},
   "outputs": [],
   "source": [
    "import pandas as pd\n",
    "import numpy as np\n",
    "import seaborn as sns\n",
    "import matplotlib.pyplot as plt\n",
    "%matplotlib inline\n",
    "\n",
    "df = pd.read_excel(r'F:\\fibonacci retracement\\Gold Futures Historical Data.xlsx')\n",
    "df = df.set_index('Date',drop = False)"
   ]
  },
  {
   "cell_type": "code",
   "execution_count": 28,
   "metadata": {},
   "outputs": [
    {
     "data": {
      "text/html": [
       "<div>\n",
       "<style scoped>\n",
       "    .dataframe tbody tr th:only-of-type {\n",
       "        vertical-align: middle;\n",
       "    }\n",
       "\n",
       "    .dataframe tbody tr th {\n",
       "        vertical-align: top;\n",
       "    }\n",
       "\n",
       "    .dataframe thead th {\n",
       "        text-align: right;\n",
       "    }\n",
       "</style>\n",
       "<table border=\"1\" class=\"dataframe\">\n",
       "  <thead>\n",
       "    <tr style=\"text-align: right;\">\n",
       "      <th></th>\n",
       "      <th>Date</th>\n",
       "      <th>Price</th>\n",
       "      <th>Open</th>\n",
       "      <th>High</th>\n",
       "      <th>Low</th>\n",
       "      <th>Vol.</th>\n",
       "      <th>Change %</th>\n",
       "    </tr>\n",
       "    <tr>\n",
       "      <th>Date</th>\n",
       "      <th></th>\n",
       "      <th></th>\n",
       "      <th></th>\n",
       "      <th></th>\n",
       "      <th></th>\n",
       "      <th></th>\n",
       "      <th></th>\n",
       "    </tr>\n",
       "  </thead>\n",
       "  <tbody>\n",
       "    <tr>\n",
       "      <td>2020-01-30</td>\n",
       "      <td>2020-01-30</td>\n",
       "      <td>1578.85</td>\n",
       "      <td>1576.65</td>\n",
       "      <td>1582.45</td>\n",
       "      <td>1575.65</td>\n",
       "      <td>-</td>\n",
       "      <td>0.0014</td>\n",
       "    </tr>\n",
       "    <tr>\n",
       "      <td>2020-01-29</td>\n",
       "      <td>2020-01-29</td>\n",
       "      <td>1576.70</td>\n",
       "      <td>1567.65</td>\n",
       "      <td>1577.70</td>\n",
       "      <td>1562.35</td>\n",
       "      <td>-</td>\n",
       "      <td>0.0044</td>\n",
       "    </tr>\n",
       "    <tr>\n",
       "      <td>2020-01-28</td>\n",
       "      <td>2020-01-28</td>\n",
       "      <td>1569.80</td>\n",
       "      <td>1580.60</td>\n",
       "      <td>1582.20</td>\n",
       "      <td>1564.60</td>\n",
       "      <td>378.01K</td>\n",
       "      <td>-0.0048</td>\n",
       "    </tr>\n",
       "    <tr>\n",
       "      <td>2020-01-27</td>\n",
       "      <td>2020-01-27</td>\n",
       "      <td>1577.40</td>\n",
       "      <td>1580.50</td>\n",
       "      <td>1588.40</td>\n",
       "      <td>1575.30</td>\n",
       "      <td>398.06K</td>\n",
       "      <td>-0.0029</td>\n",
       "    </tr>\n",
       "    <tr>\n",
       "      <td>2020-01-26</td>\n",
       "      <td>2020-01-26</td>\n",
       "      <td>1581.95</td>\n",
       "      <td>1571.65</td>\n",
       "      <td>1588.10</td>\n",
       "      <td>1571.65</td>\n",
       "      <td>-</td>\n",
       "      <td>0.0064</td>\n",
       "    </tr>\n",
       "    <tr>\n",
       "      <td>...</td>\n",
       "      <td>...</td>\n",
       "      <td>...</td>\n",
       "      <td>...</td>\n",
       "      <td>...</td>\n",
       "      <td>...</td>\n",
       "      <td>...</td>\n",
       "      <td>...</td>\n",
       "    </tr>\n",
       "    <tr>\n",
       "      <td>2014-02-05</td>\n",
       "      <td>2014-02-05</td>\n",
       "      <td>1413.00</td>\n",
       "      <td>1413.00</td>\n",
       "      <td>1413.00</td>\n",
       "      <td>1413.00</td>\n",
       "      <td>1.62K</td>\n",
       "      <td>0.0041</td>\n",
       "    </tr>\n",
       "    <tr>\n",
       "      <td>2014-02-04</td>\n",
       "      <td>2014-02-04</td>\n",
       "      <td>1407.30</td>\n",
       "      <td>1407.30</td>\n",
       "      <td>1407.30</td>\n",
       "      <td>1407.30</td>\n",
       "      <td>1.75K</td>\n",
       "      <td>-0.0069</td>\n",
       "    </tr>\n",
       "    <tr>\n",
       "      <td>2014-02-03</td>\n",
       "      <td>2014-02-03</td>\n",
       "      <td>1417.10</td>\n",
       "      <td>1417.10</td>\n",
       "      <td>1417.10</td>\n",
       "      <td>1417.10</td>\n",
       "      <td>2.91K</td>\n",
       "      <td>0.0130</td>\n",
       "    </tr>\n",
       "    <tr>\n",
       "      <td>2014-01-31</td>\n",
       "      <td>2014-01-31</td>\n",
       "      <td>1398.90</td>\n",
       "      <td>1398.90</td>\n",
       "      <td>1398.90</td>\n",
       "      <td>1398.90</td>\n",
       "      <td>5.82K</td>\n",
       "      <td>-0.0028</td>\n",
       "    </tr>\n",
       "    <tr>\n",
       "      <td>2014-01-30</td>\n",
       "      <td>2014-01-30</td>\n",
       "      <td>1402.80</td>\n",
       "      <td>1402.80</td>\n",
       "      <td>1402.80</td>\n",
       "      <td>1402.80</td>\n",
       "      <td>45.28K</td>\n",
       "      <td>-0.0136</td>\n",
       "    </tr>\n",
       "  </tbody>\n",
       "</table>\n",
       "<p>1587 rows × 7 columns</p>\n",
       "</div>"
      ],
      "text/plain": [
       "                 Date    Price     Open     High      Low     Vol.  Change %\n",
       "Date                                                                        \n",
       "2020-01-30 2020-01-30  1578.85  1576.65  1582.45  1575.65        -    0.0014\n",
       "2020-01-29 2020-01-29  1576.70  1567.65  1577.70  1562.35        -    0.0044\n",
       "2020-01-28 2020-01-28  1569.80  1580.60  1582.20  1564.60  378.01K   -0.0048\n",
       "2020-01-27 2020-01-27  1577.40  1580.50  1588.40  1575.30  398.06K   -0.0029\n",
       "2020-01-26 2020-01-26  1581.95  1571.65  1588.10  1571.65        -    0.0064\n",
       "...               ...      ...      ...      ...      ...      ...       ...\n",
       "2014-02-05 2014-02-05  1413.00  1413.00  1413.00  1413.00    1.62K    0.0041\n",
       "2014-02-04 2014-02-04  1407.30  1407.30  1407.30  1407.30    1.75K   -0.0069\n",
       "2014-02-03 2014-02-03  1417.10  1417.10  1417.10  1417.10    2.91K    0.0130\n",
       "2014-01-31 2014-01-31  1398.90  1398.90  1398.90  1398.90    5.82K   -0.0028\n",
       "2014-01-30 2014-01-30  1402.80  1402.80  1402.80  1402.80   45.28K   -0.0136\n",
       "\n",
       "[1587 rows x 7 columns]"
      ]
     },
     "execution_count": 28,
     "metadata": {},
     "output_type": "execute_result"
    }
   ],
   "source": [
    "df"
   ]
  },
  {
   "cell_type": "code",
   "execution_count": 29,
   "metadata": {},
   "outputs": [
    {
     "data": {
      "text/plain": [
       "Date        datetime64[ns]\n",
       "Price              float64\n",
       "Open               float64\n",
       "High               float64\n",
       "Low                float64\n",
       "Vol.                object\n",
       "Change %           float64\n",
       "dtype: object"
      ]
     },
     "execution_count": 29,
     "metadata": {},
     "output_type": "execute_result"
    }
   ],
   "source": [
    "df.dtypes"
   ]
  },
  {
   "cell_type": "markdown",
   "metadata": {},
   "source": [
    "Find Maximum and minimum Value "
   ]
  },
  {
   "cell_type": "code",
   "execution_count": 30,
   "metadata": {},
   "outputs": [
    {
     "data": {
      "text/plain": [
       "1551.8"
      ]
     },
     "execution_count": 30,
     "metadata": {},
     "output_type": "execute_result"
    }
   ],
   "source": [
    "df['Price']['2019-08-28':'2018-04-01'].max()"
   ]
  },
  {
   "cell_type": "code",
   "execution_count": 31,
   "metadata": {},
   "outputs": [
    {
     "data": {
      "text/plain": [
       "1204.9"
      ]
     },
     "execution_count": 31,
     "metadata": {},
     "output_type": "execute_result"
    }
   ],
   "source": [
    "df['Price']['2019-08-28':'2018-04-01'].min()"
   ]
  },
  {
   "cell_type": "code",
   "execution_count": 32,
   "metadata": {},
   "outputs": [],
   "source": [
    "df1=df['2019-08-28':'2019-04-01']"
   ]
  },
  {
   "cell_type": "code",
   "execution_count": 33,
   "metadata": {},
   "outputs": [
    {
     "data": {
      "text/html": [
       "<div>\n",
       "<style scoped>\n",
       "    .dataframe tbody tr th:only-of-type {\n",
       "        vertical-align: middle;\n",
       "    }\n",
       "\n",
       "    .dataframe tbody tr th {\n",
       "        vertical-align: top;\n",
       "    }\n",
       "\n",
       "    .dataframe thead th {\n",
       "        text-align: right;\n",
       "    }\n",
       "</style>\n",
       "<table border=\"1\" class=\"dataframe\">\n",
       "  <thead>\n",
       "    <tr style=\"text-align: right;\">\n",
       "      <th></th>\n",
       "      <th>Date</th>\n",
       "      <th>Price</th>\n",
       "      <th>Open</th>\n",
       "      <th>High</th>\n",
       "      <th>Low</th>\n",
       "      <th>Vol.</th>\n",
       "      <th>Change %</th>\n",
       "    </tr>\n",
       "    <tr>\n",
       "      <th>Date</th>\n",
       "      <th></th>\n",
       "      <th></th>\n",
       "      <th></th>\n",
       "      <th></th>\n",
       "      <th></th>\n",
       "      <th></th>\n",
       "      <th></th>\n",
       "    </tr>\n",
       "  </thead>\n",
       "  <tbody>\n",
       "    <tr>\n",
       "      <td>2019-08-28</td>\n",
       "      <td>2019-08-28</td>\n",
       "      <td>1549.1</td>\n",
       "      <td>1551.8</td>\n",
       "      <td>1556.6</td>\n",
       "      <td>1541.4</td>\n",
       "      <td>353.91K</td>\n",
       "      <td>-0.0017</td>\n",
       "    </tr>\n",
       "    <tr>\n",
       "      <td>2019-08-27</td>\n",
       "      <td>2019-08-27</td>\n",
       "      <td>1551.8</td>\n",
       "      <td>1537.3</td>\n",
       "      <td>1554.5</td>\n",
       "      <td>1535.3</td>\n",
       "      <td>347.05K</td>\n",
       "      <td>0.0095</td>\n",
       "    </tr>\n",
       "    <tr>\n",
       "      <td>2019-08-26</td>\n",
       "      <td>2019-08-26</td>\n",
       "      <td>1537.2</td>\n",
       "      <td>1545.4</td>\n",
       "      <td>1565.0</td>\n",
       "      <td>1534.8</td>\n",
       "      <td>411.67K</td>\n",
       "      <td>-0.0003</td>\n",
       "    </tr>\n",
       "    <tr>\n",
       "      <td>2019-08-23</td>\n",
       "      <td>2019-08-23</td>\n",
       "      <td>1537.6</td>\n",
       "      <td>1508.8</td>\n",
       "      <td>1540.3</td>\n",
       "      <td>1503.0</td>\n",
       "      <td>473.00K</td>\n",
       "      <td>0.0193</td>\n",
       "    </tr>\n",
       "    <tr>\n",
       "      <td>2019-08-22</td>\n",
       "      <td>2019-08-22</td>\n",
       "      <td>1508.5</td>\n",
       "      <td>1512.4</td>\n",
       "      <td>1514.6</td>\n",
       "      <td>1502.1</td>\n",
       "      <td>279.41K</td>\n",
       "      <td>-0.0048</td>\n",
       "    </tr>\n",
       "    <tr>\n",
       "      <td>...</td>\n",
       "      <td>...</td>\n",
       "      <td>...</td>\n",
       "      <td>...</td>\n",
       "      <td>...</td>\n",
       "      <td>...</td>\n",
       "      <td>...</td>\n",
       "      <td>...</td>\n",
       "    </tr>\n",
       "    <tr>\n",
       "      <td>2019-04-05</td>\n",
       "      <td>2019-04-05</td>\n",
       "      <td>1313.7</td>\n",
       "      <td>1315.0</td>\n",
       "      <td>1315.0</td>\n",
       "      <td>1306.6</td>\n",
       "      <td>1.64K</td>\n",
       "      <td>0.0011</td>\n",
       "    </tr>\n",
       "    <tr>\n",
       "      <td>2019-04-04</td>\n",
       "      <td>2019-04-04</td>\n",
       "      <td>1312.2</td>\n",
       "      <td>1313.1</td>\n",
       "      <td>1316.4</td>\n",
       "      <td>1302.8</td>\n",
       "      <td>2.29K</td>\n",
       "      <td>-0.0008</td>\n",
       "    </tr>\n",
       "    <tr>\n",
       "      <td>2019-04-03</td>\n",
       "      <td>2019-04-03</td>\n",
       "      <td>1313.3</td>\n",
       "      <td>1314.0</td>\n",
       "      <td>1316.6</td>\n",
       "      <td>1310.6</td>\n",
       "      <td>1.44K</td>\n",
       "      <td>-0.0001</td>\n",
       "    </tr>\n",
       "    <tr>\n",
       "      <td>2019-04-02</td>\n",
       "      <td>2019-04-02</td>\n",
       "      <td>1313.4</td>\n",
       "      <td>1310.7</td>\n",
       "      <td>1314.7</td>\n",
       "      <td>1308.0</td>\n",
       "      <td>1.41K</td>\n",
       "      <td>0.0008</td>\n",
       "    </tr>\n",
       "    <tr>\n",
       "      <td>2019-04-01</td>\n",
       "      <td>2019-04-01</td>\n",
       "      <td>1312.4</td>\n",
       "      <td>1314.4</td>\n",
       "      <td>1319.3</td>\n",
       "      <td>1309.5</td>\n",
       "      <td>0.77K</td>\n",
       "      <td>-0.0031</td>\n",
       "    </tr>\n",
       "  </tbody>\n",
       "</table>\n",
       "<p>109 rows × 7 columns</p>\n",
       "</div>"
      ],
      "text/plain": [
       "                 Date   Price    Open    High     Low     Vol.  Change %\n",
       "Date                                                                    \n",
       "2019-08-28 2019-08-28  1549.1  1551.8  1556.6  1541.4  353.91K   -0.0017\n",
       "2019-08-27 2019-08-27  1551.8  1537.3  1554.5  1535.3  347.05K    0.0095\n",
       "2019-08-26 2019-08-26  1537.2  1545.4  1565.0  1534.8  411.67K   -0.0003\n",
       "2019-08-23 2019-08-23  1537.6  1508.8  1540.3  1503.0  473.00K    0.0193\n",
       "2019-08-22 2019-08-22  1508.5  1512.4  1514.6  1502.1  279.41K   -0.0048\n",
       "...               ...     ...     ...     ...     ...      ...       ...\n",
       "2019-04-05 2019-04-05  1313.7  1315.0  1315.0  1306.6    1.64K    0.0011\n",
       "2019-04-04 2019-04-04  1312.2  1313.1  1316.4  1302.8    2.29K   -0.0008\n",
       "2019-04-03 2019-04-03  1313.3  1314.0  1316.6  1310.6    1.44K   -0.0001\n",
       "2019-04-02 2019-04-02  1313.4  1310.7  1314.7  1308.0    1.41K    0.0008\n",
       "2019-04-01 2019-04-01  1312.4  1314.4  1319.3  1309.5    0.77K   -0.0031\n",
       "\n",
       "[109 rows x 7 columns]"
      ]
     },
     "execution_count": 33,
     "metadata": {},
     "output_type": "execute_result"
    }
   ],
   "source": [
    "df1"
   ]
  },
  {
   "cell_type": "code",
   "execution_count": 34,
   "metadata": {},
   "outputs": [
    {
     "data": {
      "text/plain": [
       "1277.9"
      ]
     },
     "execution_count": 34,
     "metadata": {},
     "output_type": "execute_result"
    }
   ],
   "source": [
    "Price_Min =df1['Low']['2019-08-28':'2019-04-01'].min()\n",
    "Price_Min"
   ]
  },
  {
   "cell_type": "code",
   "execution_count": 35,
   "metadata": {},
   "outputs": [
    {
     "data": {
      "text/plain": [
       "1565.0"
      ]
     },
     "execution_count": 35,
     "metadata": {},
     "output_type": "execute_result"
    }
   ],
   "source": [
    "Price_Max =df1['High']['2019-08-28':'2019-04-01'].max()\n",
    "Price_Max"
   ]
  },
  {
   "cell_type": "markdown",
   "metadata": {},
   "source": [
    "Find the Difference and find the level as per the fibonacci Retracement Model"
   ]
  },
  {
   "cell_type": "code",
   "execution_count": 36,
   "metadata": {},
   "outputs": [],
   "source": [
    "Diff = Price_Max-Price_Min"
   ]
  },
  {
   "cell_type": "code",
   "execution_count": 37,
   "metadata": {},
   "outputs": [],
   "source": [
    "level1 = Price_Max - 0.236 * Diff\n",
    "level2 = Price_Max - 0.382 * Diff\n",
    "level3 = Price_Max - 0.618 * Diff"
   ]
  },
  {
   "cell_type": "code",
   "execution_count": 38,
   "metadata": {},
   "outputs": [
    {
     "name": "stdout",
     "output_type": "stream",
     "text": [
      "Level   PRICE\n",
      "0         1565.0\n",
      "0.236     1497.2444\n",
      "0.382     1455.3278\n",
      "0.618     1387.5722\n",
      "1         1277.9\n"
     ]
    }
   ],
   "source": [
    "\n",
    "print (\"Level\", \" \", \"PRICE\")\n",
    "\n",
    "print (\"0 \", \"      \" , Price_Max)\n",
    "print (\"0.236\", \"   \" ,level1)\n",
    "print (\"0.382\",  \"   \",level2)\n",
    "print (\"0.618\",\"   \",  level3)\n",
    "print (\"1 \",   \"      \", Price_Min)"
   ]
  },
  {
   "cell_type": "markdown",
   "metadata": {},
   "source": [
    "Ploting Graph"
   ]
  },
  {
   "cell_type": "code",
   "execution_count": 39,
   "metadata": {},
   "outputs": [
    {
     "data": {
      "image/png": "[encoded data removed]",
      "text/plain": [
       "<Figure size 1080x360 with 1 Axes>"
      ]
     },
     "metadata": {
      "needs_background": "light"
     },
     "output_type": "display_data"
    }
   ],
   "source": [
    "fig, ax = plt.subplots(figsize=(15,5))\n",
    "\n",
    "ax.plot(df1.Date, df1.Price)\n",
    "\n",
    "ax.axhspan(level1, Price_Min, alpha=0.4, color='lightsalmon')\n",
    "ax.axhspan(level2, level1, alpha=0.5, color='palegoldenrod')\n",
    "ax.axhspan(level3, level2, alpha=0.5, color='palegreen')\n",
    "ax.axhspan(Price_Max, level3, alpha=0.5, color='powderblue')\n",
    "\n",
    "plt.ylabel(\"Price\")\n",
    "plt.xlabel(\"Date\")\n",
    "\n",
    "plt.title('Fibonacci')\n",
    "\n",
    "plt.show()"
   ]
  },
  {
   "cell_type": "code",
   "execution_count": null,
   "metadata": {},
   "outputs": [],
   "source": []
  }
 ],
 "metadata": {
  "kernelspec": {
   "display_name": "Python 3",
   "language": "python",
   "name": "python3"
  },
  "language_info": {
   "codemirror_mode": {
    "name": "ipython",
    "version": 3
   },
   "file_extension": ".py",
   "mimetype": "text/x-python",
   "name": "python",
   "nbconvert_exporter": "python",
   "pygments_lexer": "ipython3",
   "version": "3.7.1"
  }
 },
 "nbformat": 4,
 "nbformat_minor": 2
}
